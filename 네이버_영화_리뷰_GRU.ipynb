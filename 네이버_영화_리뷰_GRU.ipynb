{
  "nbformat": 4,
  "nbformat_minor": 0,
  "metadata": {
    "accelerator": "GPU",
    "colab": {
      "name": "네이버 영화 리뷰 - GRU.ipynb",
      "provenance": []
    },
    "kernelspec": {
      "display_name": "Python 3",
      "name": "python3"
    },
    "language_info": {
      "name": "python"
    }
  },
  "cells": [
    {
      "cell_type": "markdown",
      "metadata": {
        "id": "KsnwW1-vAEc7"
      },
      "source": [
        "# **네이버 영화 리뷰 - GRU**"
      ]
    },
    {
      "cell_type": "markdown",
      "metadata": {
        "id": "ntuyTx9J3XMu"
      },
      "source": [
        "구글 드라이브 마운트"
      ]
    },
    {
      "cell_type": "code",
      "metadata": {
        "colab": {
          "base_uri": "https://localhost:8080/"
        },
        "id": "1LqTtS2S3U8j",
        "outputId": "e58bed94-2d1b-4a5d-e291-cdc40abf3911"
      },
      "source": [
        "from google.colab import drive\n",
        "drive.mount(\"/content/drive\")"
      ],
      "execution_count": null,
      "outputs": [
        {
          "name": "stdout",
          "output_type": "stream",
          "text": [
            "Mounted at /content/drive\n"
          ]
        }
      ]
    },
    {
      "cell_type": "markdown",
      "metadata": {
        "id": "Qyvj4QDU5C3U"
      },
      "source": [
        "패딩 데이터 불러오기"
      ]
    },
    {
      "cell_type": "code",
      "metadata": {
        "id": "O6PibNco5DNr"
      },
      "source": [
        "import numpy as np\n",
        "\n",
        "# x = data / y = label\n",
        "x_train = np.load(\"/content/drive/MyDrive/ml_data/NaverMovieReview/x_train_padded.npy\", allow_pickle=True)\n",
        "y_train = np.load(\"/content/drive/MyDrive/ml_data/NaverMovieReview/y_train_tokenized.npy\")\n",
        "x_test = np.load(\"/content/drive/MyDrive/ml_data/NaverMovieReview/x_test_padded.npy\", allow_pickle=True)\n",
        "y_test = np.load(\"/content/drive/MyDrive/ml_data/NaverMovieReview/y_test_tokenized.npy\")"
      ],
      "execution_count": null,
      "outputs": []
    },
    {
      "cell_type": "markdown",
      "metadata": {
        "id": "qIcvNP6g5IiI"
      },
      "source": [
        "모델 생성"
      ]
    },
    {
      "cell_type": "code",
      "metadata": {
        "id": "b_FQfflI5I9g"
      },
      "source": [
        "from tensorflow.keras.layers import Embedding, Dense, GRU\n",
        "from tensorflow.keras.models import Sequential\n",
        "\n",
        "# 정수 인코딩을 통해서 구한 사이즈\n",
        "vocab_size = 28631 # = 단어 개수 (colab '네이버 영화 리뷰 - 정수 인코딩' 참고)\n",
        "\n",
        "model = Sequential()\n",
        "model.add(Embedding(vocab_size, 100))\n",
        "model.add(GRU(128))\n",
        "model.add(Dense(1, activation=\"sigmoid\"))"
      ],
      "execution_count": null,
      "outputs": []
    },
    {
      "cell_type": "markdown",
      "metadata": {
        "id": "s_N1_bHu8Rtl"
      },
      "source": [
        "모델 컴파일"
      ]
    },
    {
      "cell_type": "code",
      "metadata": {
        "id": "OzrUvv0C8SHR"
      },
      "source": [
        "model.compile(\n",
        "    optimizer=\"adam\", \n",
        "    loss=\"binary_crossentropy\", \n",
        "    metrics=[\"acc\"]\n",
        "    )"
      ],
      "execution_count": null,
      "outputs": []
    },
    {
      "cell_type": "markdown",
      "metadata": {
        "id": "ScF9VE4d8hh_"
      },
      "source": [
        "모델 훈련"
      ]
    },
    {
      "cell_type": "code",
      "metadata": {
        "colab": {
          "background_save": true,
          "base_uri": "https://localhost:8080/"
        },
        "id": "NHYZd1gp8jvb",
        "outputId": "7647252c-620e-48de-a44d-8e2e4e05e8cb"
      },
      "source": [
        "from tensorflow.keras.callbacks import EarlyStopping, ModelCheckpoint\n",
        "\n",
        "# EarlyStopping, 과적합으로 손실이 4회이상 발생하면 조기 종료\n",
        "es = EarlyStopping(\n",
        "    monitor=\"val_loss\", \n",
        "    mode=\"min\", \n",
        "    verbose=1, \n",
        "    patience=4\n",
        "    )\n",
        "\n",
        "# ModelCheckpoint, 검증 데이터의 정확도가 이전보다 좋아질때만 모델을 저장\n",
        "mc = ModelCheckpoint(\n",
        "    \"/content/drive/MyDrive/ml_data/models/NaverMovieReview/best_model_GRU.h5\", \n",
        "    monitor=\"val_acc\", \n",
        "    mode=\"max\", \n",
        "    verbose=1, \n",
        "    save_best_only=True)\n",
        "\n",
        "history = model.fit(\n",
        "    x_train, y_train,\n",
        "    epochs=20,\n",
        "    batch_size=100,\n",
        "    callbacks=[es, mc],\n",
        "    validation_data=(x_test, y_test),\n",
        "    verbose=1\n",
        ")"
      ],
      "execution_count": null,
      "outputs": [
        {
          "name": "stdout",
          "output_type": "stream",
          "text": [
            "Epoch 1/20\n",
            "1458/1458 [==============================] - 264s 179ms/step - loss: 0.3716 - acc: 0.8329 - val_loss: 0.3301 - val_acc: 0.8547\n",
            "\n",
            "Epoch 00001: val_acc improved from -inf to 0.85474, saving model to /content/drive/MyDrive/ml_data/models/NaverMovieReview/best_model_GRU.h5\n",
            "Epoch 2/20\n",
            "1458/1458 [==============================] - 256s 176ms/step - loss: 0.2762 - acc: 0.8846 - val_loss: 0.3275 - val_acc: 0.8560\n",
            "\n",
            "Epoch 00002: val_acc improved from 0.85474 to 0.85596, saving model to /content/drive/MyDrive/ml_data/models/NaverMovieReview/best_model_GRU.h5\n",
            "Epoch 3/20\n",
            "1458/1458 [==============================] - 256s 175ms/step - loss: 0.2247 - acc: 0.9086 - val_loss: 0.3464 - val_acc: 0.8562\n",
            "\n",
            "Epoch 00003: val_acc improved from 0.85596 to 0.85617, saving model to /content/drive/MyDrive/ml_data/models/NaverMovieReview/best_model_GRU.h5\n",
            "Epoch 4/20\n",
            "1458/1458 [==============================] - 254s 174ms/step - loss: 0.1811 - acc: 0.9289 - val_loss: 0.3769 - val_acc: 0.8510\n",
            "\n",
            "Epoch 00004: val_acc did not improve from 0.85617\n",
            "Epoch 5/20\n",
            "1458/1458 [==============================] - 254s 174ms/step - loss: 0.1446 - acc: 0.9437 - val_loss: 0.4252 - val_acc: 0.8478\n",
            "\n",
            "Epoch 00005: val_acc did not improve from 0.85617\n",
            "Epoch 6/20\n",
            "1458/1458 [==============================] - 254s 174ms/step - loss: 0.1172 - acc: 0.9546 - val_loss: 0.5097 - val_acc: 0.8481\n",
            "\n",
            "Epoch 00006: val_acc did not improve from 0.85617\n",
            "Epoch 00006: early stopping\n"
          ]
        }
      ]
    },
    {
      "cell_type": "markdown",
      "metadata": {
        "id": "5Sq_Zq3E_nlJ"
      },
      "source": [
        "모델 평가"
      ]
    },
    {
      "cell_type": "code",
      "metadata": {
        "colab": {
          "base_uri": "https://localhost:8080/"
        },
        "id": "0yhwIqU__m1v",
        "outputId": "a22da087-5d78-4bd9-976f-f3ab99eed8e2"
      },
      "source": [
        "loss, acc = model.evaluate(x_test, y_test)\n",
        "print('정확도: {:5.2f}%'.format(100 * acc))"
      ],
      "execution_count": null,
      "outputs": [
        {
          "name": "stdout",
          "output_type": "stream",
          "text": [
            "1532/1532 [==============================] - 9s 6ms/step - loss: 0.8108 - acc: 0.8345\n",
            "정확도: 83.45%\n"
          ]
        }
      ]
    }
  ]
}