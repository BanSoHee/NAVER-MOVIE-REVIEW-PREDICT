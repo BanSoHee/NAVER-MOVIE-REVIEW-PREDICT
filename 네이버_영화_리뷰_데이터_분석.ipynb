{
  "nbformat": 4,
  "nbformat_minor": 0,
  "metadata": {
    "colab": {
      "name": "네이버 영화 리뷰 - 데이터 분석.ipynb",
      "provenance": [],
      "collapsed_sections": []
    },
    "kernelspec": {
      "name": "python3",
      "display_name": "Python 3"
    },
    "language_info": {
      "name": "python"
    },
    "accelerator": "GPU"
  },
  "cells": [
    {
      "cell_type": "markdown",
      "metadata": {
        "id": "1jPM1Lbyaj0o"
      },
      "source": [
        "# **네이버 영화 리뷰 - 데이터 분석**"
      ]
    },
    {
      "cell_type": "markdown",
      "metadata": {
        "id": "bkH1ct8s3hRm"
      },
      "source": [
        "1. 중복 데이터 제거\n",
        "\n",
        "2. 비어있는(Null) 데이터 제거\n",
        "\n",
        "3. 한글 이외의 문자 제거\n",
        "\n",
        "4. 의미없는 데이터(불용어, stopword) 제거\n",
        "\n",
        "5. 토큰화(형태소 분석)\n",
        "\n",
        "6. 정수 인코딩\n",
        "\n",
        "7. 패딩(글자수) 처리\n",
        "\n",
        "8. 학습"
      ]
    },
    {
      "cell_type": "markdown",
      "metadata": {
        "id": "awd8LlA4biHe"
      },
      "source": [
        "구글 드라이브 마운트"
      ]
    },
    {
      "cell_type": "code",
      "metadata": {
        "colab": {
          "base_uri": "https://localhost:8080/"
        },
        "id": "WXT1vj2pZidD",
        "outputId": "6267185d-8c3e-426e-81a6-bfb81dd7bf11"
      },
      "source": [
        "from google.colab import drive\n",
        "drive.mount('/content/drive')"
      ],
      "execution_count": null,
      "outputs": [
        {
          "output_type": "stream",
          "name": "stdout",
          "text": [
            "Drive already mounted at /content/drive; to attempt to forcibly remount, call drive.mount(\"/content/drive\", force_remount=True).\n"
          ]
        }
      ]
    },
    {
      "cell_type": "markdown",
      "metadata": {
        "id": "Wg412xmdbgD9"
      },
      "source": [
        "학습 데이터 다운로드\n",
        "\n",
        "https://github.com/e9t/nsmc"
      ]
    },
    {
      "cell_type": "code",
      "metadata": {
        "colab": {
          "base_uri": "https://localhost:8080/",
          "height": 359
        },
        "id": "gAZowrsPbQnc",
        "outputId": "f474e085-e28f-488d-efd7-8ceae3dc5462"
      },
      "source": [
        "# 학습 데이터\n",
        "import urllib.request\n",
        "import pandas as pd\n",
        "\n",
        "urllib.request.urlretrieve(\n",
        "    \"https://raw.githubusercontent.com/e9t/nsmc/master/ratings_train.txt\", \n",
        "    filename='ratings_train.txt'\n",
        "    )\n",
        "\n",
        "train_data = pd.read_table('ratings_train.txt')\n",
        "train_data = train_data.rename(columns={'document':'리뷰', 'label':'분류'})\n",
        "train_data[:10]"
      ],
      "execution_count": null,
      "outputs": [
        {
          "output_type": "execute_result",
          "data": {
            "text/html": [
              "<div>\n",
              "<style scoped>\n",
              "    .dataframe tbody tr th:only-of-type {\n",
              "        vertical-align: middle;\n",
              "    }\n",
              "\n",
              "    .dataframe tbody tr th {\n",
              "        vertical-align: top;\n",
              "    }\n",
              "\n",
              "    .dataframe thead th {\n",
              "        text-align: right;\n",
              "    }\n",
              "</style>\n",
              "<table border=\"1\" class=\"dataframe\">\n",
              "  <thead>\n",
              "    <tr style=\"text-align: right;\">\n",
              "      <th></th>\n",
              "      <th>id</th>\n",
              "      <th>리뷰</th>\n",
              "      <th>분류</th>\n",
              "    </tr>\n",
              "  </thead>\n",
              "  <tbody>\n",
              "    <tr>\n",
              "      <th>0</th>\n",
              "      <td>9976970</td>\n",
              "      <td>아 더빙.. 진짜 짜증나네요 목소리</td>\n",
              "      <td>0</td>\n",
              "    </tr>\n",
              "    <tr>\n",
              "      <th>1</th>\n",
              "      <td>3819312</td>\n",
              "      <td>흠...포스터보고 초딩영화줄....오버연기조차 가볍지 않구나</td>\n",
              "      <td>1</td>\n",
              "    </tr>\n",
              "    <tr>\n",
              "      <th>2</th>\n",
              "      <td>10265843</td>\n",
              "      <td>너무재밓었다그래서보는것을추천한다</td>\n",
              "      <td>0</td>\n",
              "    </tr>\n",
              "    <tr>\n",
              "      <th>3</th>\n",
              "      <td>9045019</td>\n",
              "      <td>교도소 이야기구먼 ..솔직히 재미는 없다..평점 조정</td>\n",
              "      <td>0</td>\n",
              "    </tr>\n",
              "    <tr>\n",
              "      <th>4</th>\n",
              "      <td>6483659</td>\n",
              "      <td>사이몬페그의 익살스런 연기가 돋보였던 영화!스파이더맨에서 늙어보이기만 했던 커스틴 ...</td>\n",
              "      <td>1</td>\n",
              "    </tr>\n",
              "    <tr>\n",
              "      <th>5</th>\n",
              "      <td>5403919</td>\n",
              "      <td>막 걸음마 뗀 3세부터 초등학교 1학년생인 8살용영화.ㅋㅋㅋ...별반개도 아까움.</td>\n",
              "      <td>0</td>\n",
              "    </tr>\n",
              "    <tr>\n",
              "      <th>6</th>\n",
              "      <td>7797314</td>\n",
              "      <td>원작의 긴장감을 제대로 살려내지못했다.</td>\n",
              "      <td>0</td>\n",
              "    </tr>\n",
              "    <tr>\n",
              "      <th>7</th>\n",
              "      <td>9443947</td>\n",
              "      <td>별 반개도 아깝다 욕나온다 이응경 길용우 연기생활이몇년인지..정말 발로해도 그것보단...</td>\n",
              "      <td>0</td>\n",
              "    </tr>\n",
              "    <tr>\n",
              "      <th>8</th>\n",
              "      <td>7156791</td>\n",
              "      <td>액션이 없는데도 재미 있는 몇안되는 영화</td>\n",
              "      <td>1</td>\n",
              "    </tr>\n",
              "    <tr>\n",
              "      <th>9</th>\n",
              "      <td>5912145</td>\n",
              "      <td>왜케 평점이 낮은건데? 꽤 볼만한데.. 헐리우드식 화려함에만 너무 길들여져 있나?</td>\n",
              "      <td>1</td>\n",
              "    </tr>\n",
              "  </tbody>\n",
              "</table>\n",
              "</div>"
            ],
            "text/plain": [
              "         id                                                 리뷰  분류\n",
              "0   9976970                                아 더빙.. 진짜 짜증나네요 목소리   0\n",
              "1   3819312                  흠...포스터보고 초딩영화줄....오버연기조차 가볍지 않구나   1\n",
              "2  10265843                                  너무재밓었다그래서보는것을추천한다   0\n",
              "3   9045019                      교도소 이야기구먼 ..솔직히 재미는 없다..평점 조정   0\n",
              "4   6483659  사이몬페그의 익살스런 연기가 돋보였던 영화!스파이더맨에서 늙어보이기만 했던 커스틴 ...   1\n",
              "5   5403919      막 걸음마 뗀 3세부터 초등학교 1학년생인 8살용영화.ㅋㅋㅋ...별반개도 아까움.   0\n",
              "6   7797314                              원작의 긴장감을 제대로 살려내지못했다.   0\n",
              "7   9443947  별 반개도 아깝다 욕나온다 이응경 길용우 연기생활이몇년인지..정말 발로해도 그것보단...   0\n",
              "8   7156791                             액션이 없는데도 재미 있는 몇안되는 영화   1\n",
              "9   5912145      왜케 평점이 낮은건데? 꽤 볼만한데.. 헐리우드식 화려함에만 너무 길들여져 있나?   1"
            ]
          },
          "metadata": {},
          "execution_count": 18
        }
      ]
    },
    {
      "cell_type": "code",
      "metadata": {
        "colab": {
          "base_uri": "https://localhost:8080/"
        },
        "id": "jFy2RV7OdAx4",
        "outputId": "7dee8166-fccf-4013-e8ab-2c7222248bae"
      },
      "source": [
        "len(train_data)"
      ],
      "execution_count": null,
      "outputs": [
        {
          "output_type": "execute_result",
          "data": {
            "text/plain": [
              "150000"
            ]
          },
          "metadata": {},
          "execution_count": 19
        }
      ]
    },
    {
      "cell_type": "markdown",
      "metadata": {
        "id": "Z5cRhgM7dLQv"
      },
      "source": [
        "검증 데이터 다운로드"
      ]
    },
    {
      "cell_type": "code",
      "metadata": {
        "colab": {
          "base_uri": "https://localhost:8080/",
          "height": 359
        },
        "id": "qZUPhEhidK8j",
        "outputId": "8a19e5bd-cd0c-4264-b557-4b670b2bd845"
      },
      "source": [
        "# 검증 데이터\n",
        "import urllib.request\n",
        "import pandas as pd\n",
        "\n",
        "urllib.request.urlretrieve(\n",
        "    \"https://raw.githubusercontent.com/e9t/nsmc/master/ratings_test.txt\", \n",
        "    filename='ratings_test.txt'\n",
        "    )\n",
        "\n",
        "test_data = pd.read_table('ratings_test.txt')\n",
        "test_data = test_data.rename(columns={'document':'리뷰', 'label':'분류'})\n",
        "test_data[:10]"
      ],
      "execution_count": null,
      "outputs": [
        {
          "output_type": "execute_result",
          "data": {
            "text/html": [
              "<div>\n",
              "<style scoped>\n",
              "    .dataframe tbody tr th:only-of-type {\n",
              "        vertical-align: middle;\n",
              "    }\n",
              "\n",
              "    .dataframe tbody tr th {\n",
              "        vertical-align: top;\n",
              "    }\n",
              "\n",
              "    .dataframe thead th {\n",
              "        text-align: right;\n",
              "    }\n",
              "</style>\n",
              "<table border=\"1\" class=\"dataframe\">\n",
              "  <thead>\n",
              "    <tr style=\"text-align: right;\">\n",
              "      <th></th>\n",
              "      <th>id</th>\n",
              "      <th>리뷰</th>\n",
              "      <th>분류</th>\n",
              "    </tr>\n",
              "  </thead>\n",
              "  <tbody>\n",
              "    <tr>\n",
              "      <th>0</th>\n",
              "      <td>6270596</td>\n",
              "      <td>굳 ㅋ</td>\n",
              "      <td>1</td>\n",
              "    </tr>\n",
              "    <tr>\n",
              "      <th>1</th>\n",
              "      <td>9274899</td>\n",
              "      <td>GDNTOPCLASSINTHECLUB</td>\n",
              "      <td>0</td>\n",
              "    </tr>\n",
              "    <tr>\n",
              "      <th>2</th>\n",
              "      <td>8544678</td>\n",
              "      <td>뭐야 이 평점들은.... 나쁘진 않지만 10점 짜리는 더더욱 아니잖아</td>\n",
              "      <td>0</td>\n",
              "    </tr>\n",
              "    <tr>\n",
              "      <th>3</th>\n",
              "      <td>6825595</td>\n",
              "      <td>지루하지는 않은데 완전 막장임... 돈주고 보기에는....</td>\n",
              "      <td>0</td>\n",
              "    </tr>\n",
              "    <tr>\n",
              "      <th>4</th>\n",
              "      <td>6723715</td>\n",
              "      <td>3D만 아니었어도 별 다섯 개 줬을텐데.. 왜 3D로 나와서 제 심기를 불편하게 하죠??</td>\n",
              "      <td>0</td>\n",
              "    </tr>\n",
              "    <tr>\n",
              "      <th>5</th>\n",
              "      <td>7898805</td>\n",
              "      <td>음악이 주가 된, 최고의 음악영화</td>\n",
              "      <td>1</td>\n",
              "    </tr>\n",
              "    <tr>\n",
              "      <th>6</th>\n",
              "      <td>6315043</td>\n",
              "      <td>진정한 쓰레기</td>\n",
              "      <td>0</td>\n",
              "    </tr>\n",
              "    <tr>\n",
              "      <th>7</th>\n",
              "      <td>6097171</td>\n",
              "      <td>마치 미국애니에서 튀어나온듯한 창의력없는 로봇디자인부터가,고개를 젖게한다</td>\n",
              "      <td>0</td>\n",
              "    </tr>\n",
              "    <tr>\n",
              "      <th>8</th>\n",
              "      <td>8932678</td>\n",
              "      <td>갈수록 개판되가는 중국영화 유치하고 내용없음 폼잡다 끝남 말도안되는 무기에 유치한c...</td>\n",
              "      <td>0</td>\n",
              "    </tr>\n",
              "    <tr>\n",
              "      <th>9</th>\n",
              "      <td>6242223</td>\n",
              "      <td>이별의 아픔뒤에 찾아오는 새로운 인연의 기쁨 But, 모든 사람이 그렇지는 않네..</td>\n",
              "      <td>1</td>\n",
              "    </tr>\n",
              "  </tbody>\n",
              "</table>\n",
              "</div>"
            ],
            "text/plain": [
              "        id                                                 리뷰  분류\n",
              "0  6270596                                                굳 ㅋ   1\n",
              "1  9274899                               GDNTOPCLASSINTHECLUB   0\n",
              "2  8544678             뭐야 이 평점들은.... 나쁘진 않지만 10점 짜리는 더더욱 아니잖아   0\n",
              "3  6825595                   지루하지는 않은데 완전 막장임... 돈주고 보기에는....   0\n",
              "4  6723715  3D만 아니었어도 별 다섯 개 줬을텐데.. 왜 3D로 나와서 제 심기를 불편하게 하죠??   0\n",
              "5  7898805                                 음악이 주가 된, 최고의 음악영화   1\n",
              "6  6315043                                            진정한 쓰레기   0\n",
              "7  6097171           마치 미국애니에서 튀어나온듯한 창의력없는 로봇디자인부터가,고개를 젖게한다   0\n",
              "8  8932678  갈수록 개판되가는 중국영화 유치하고 내용없음 폼잡다 끝남 말도안되는 무기에 유치한c...   0\n",
              "9  6242223     이별의 아픔뒤에 찾아오는 새로운 인연의 기쁨 But, 모든 사람이 그렇지는 않네..   1"
            ]
          },
          "metadata": {},
          "execution_count": 20
        }
      ]
    },
    {
      "cell_type": "code",
      "metadata": {
        "colab": {
          "base_uri": "https://localhost:8080/"
        },
        "id": "ytyicGqOddGs",
        "outputId": "3bb904c2-6a4a-409c-f632-59d3eab40b67"
      },
      "source": [
        "len(test_data)"
      ],
      "execution_count": null,
      "outputs": [
        {
          "output_type": "execute_result",
          "data": {
            "text/plain": [
              "50000"
            ]
          },
          "metadata": {},
          "execution_count": 21
        }
      ]
    },
    {
      "cell_type": "markdown",
      "metadata": {
        "id": "eLhDwJPgdgBx"
      },
      "source": [
        "중복 데이터 제거"
      ]
    },
    {
      "cell_type": "code",
      "metadata": {
        "id": "AQVwthzhdiXQ"
      },
      "source": [
        "# padas를 이용하여 중복 데이터 제거 -> drop_duplicates 이용\n",
        "train_data.drop_duplicates(subset=['리뷰'], inplace=True)\n",
        "\n",
        "# Null값 제거\n",
        "train_data = train_data.dropna(how='any')"
      ],
      "execution_count": null,
      "outputs": []
    },
    {
      "cell_type": "code",
      "metadata": {
        "colab": {
          "base_uri": "https://localhost:8080/"
        },
        "id": "ca2pbCtgeDFk",
        "outputId": "284a2ee5-2e34-4bd9-9e46-14e1ee04d6f6"
      },
      "source": [
        "len(train_data)"
      ],
      "execution_count": null,
      "outputs": [
        {
          "output_type": "execute_result",
          "data": {
            "text/plain": [
              "146182"
            ]
          },
          "metadata": {},
          "execution_count": 23
        }
      ]
    },
    {
      "cell_type": "code",
      "metadata": {
        "id": "Shrwo5XfeFTx"
      },
      "source": [
        "# padas를 이용하여 중복 데이터 제거 -> drop_duplicates 이용\n",
        "test_data.drop_duplicates(subset=['리뷰'], inplace=True)\n",
        "\n",
        "# 누락(Null) 값 제거\n",
        "# how: any 행 내에 어떤 값이라도 / all 행 내 모든 값이 null 일 경우 행을 날림\n",
        "test_data = test_data.dropna(how='any')"
      ],
      "execution_count": null,
      "outputs": []
    },
    {
      "cell_type": "code",
      "metadata": {
        "colab": {
          "base_uri": "https://localhost:8080/"
        },
        "id": "k-DSJWj_eLJ9",
        "outputId": "c453205c-6e3f-4759-a8a8-398bd479ab53"
      },
      "source": [
        "len(test_data)"
      ],
      "execution_count": null,
      "outputs": [
        {
          "output_type": "execute_result",
          "data": {
            "text/plain": [
              "49157"
            ]
          },
          "metadata": {},
          "execution_count": 25
        }
      ]
    },
    {
      "cell_type": "markdown",
      "metadata": {
        "id": "MWoUPHHXhBv_"
      },
      "source": [
        "훈련 데이터 분류(긍정/부정) 확인"
      ]
    },
    {
      "cell_type": "code",
      "metadata": {
        "colab": {
          "base_uri": "https://localhost:8080/",
          "height": 280
        },
        "id": "km9p6hNLhFsQ",
        "outputId": "396b772c-739e-45d9-8e7a-aa41eb05addd"
      },
      "source": [
        "# 긍정/부정 분류 데이터 그래프 확인\n",
        "import matplotlib.pyplot as plt\n",
        "train_data[\"분류\"].value_counts().plot(kind=\"bar\")"
      ],
      "execution_count": null,
      "outputs": [
        {
          "output_type": "execute_result",
          "data": {
            "text/plain": [
              "<matplotlib.axes._subplots.AxesSubplot at 0x7f9bae5ee810>"
            ]
          },
          "metadata": {},
          "execution_count": 26
        },
        {
          "output_type": "display_data",
          "data": {
            "image/png": "[encoded data removed]",
            "text/plain": [
              "<Figure size 432x288 with 1 Axes>"
            ]
          },
          "metadata": {
            "needs_background": "light"
          }
        }
      ]
    },
    {
      "cell_type": "code",
      "metadata": {
        "colab": {
          "base_uri": "https://localhost:8080/",
          "height": 111
        },
        "id": "audpkT6PhVil",
        "outputId": "d0e63055-9da8-4883-9785-7941c36d13a2"
      },
      "source": [
        "# 긍정/부정 분류 데이터 개수 확인\n",
        "train_data.groupby(\"분류\").size().reset_index(name=\"개수\")"
      ],
      "execution_count": null,
      "outputs": [
        {
          "output_type": "execute_result",
          "data": {
            "text/html": [
              "<div>\n",
              "<style scoped>\n",
              "    .dataframe tbody tr th:only-of-type {\n",
              "        vertical-align: middle;\n",
              "    }\n",
              "\n",
              "    .dataframe tbody tr th {\n",
              "        vertical-align: top;\n",
              "    }\n",
              "\n",
              "    .dataframe thead th {\n",
              "        text-align: right;\n",
              "    }\n",
              "</style>\n",
              "<table border=\"1\" class=\"dataframe\">\n",
              "  <thead>\n",
              "    <tr style=\"text-align: right;\">\n",
              "      <th></th>\n",
              "      <th>분류</th>\n",
              "      <th>개수</th>\n",
              "    </tr>\n",
              "  </thead>\n",
              "  <tbody>\n",
              "    <tr>\n",
              "      <th>0</th>\n",
              "      <td>0</td>\n",
              "      <td>73342</td>\n",
              "    </tr>\n",
              "    <tr>\n",
              "      <th>1</th>\n",
              "      <td>1</td>\n",
              "      <td>72840</td>\n",
              "    </tr>\n",
              "  </tbody>\n",
              "</table>\n",
              "</div>"
            ],
            "text/plain": [
              "   분류     개수\n",
              "0   0  73342\n",
              "1   1  72840"
            ]
          },
          "metadata": {},
          "execution_count": 27
        }
      ]
    },
    {
      "cell_type": "markdown",
      "metadata": {
        "id": "4QvCqfJ8iSH4"
      },
      "source": [
        "학습 데이터 전처리 - 한글을 제외한 나머지를 제거 후 생긴 공백을 제거"
      ]
    },
    {
      "cell_type": "code",
      "metadata": {
        "id": "lKFTM7j-iRzk"
      },
      "source": [
        "import numpy as np\n",
        "\n",
        "# 학습 데이터\n",
        "train_data[\"리뷰\"] = train_data[\"리뷰\"].str.replace(\"[^ㄱ-ㅎㅏ-ㅣ가-힣 ]\", \"\") # 한글을 제외한 나머지 글자를 공백으로 변환\n",
        "train_data[\"리뷰\"].replace(\"\", np.nan, inplace=True) # 누락 값 처리\n",
        "train_data = train_data.dropna(how=\"any\")            # 누락 값 처리"
      ],
      "execution_count": null,
      "outputs": []
    },
    {
      "cell_type": "code",
      "metadata": {
        "colab": {
          "base_uri": "https://localhost:8080/"
        },
        "id": "nLomowwcjnMj",
        "outputId": "c2e8ba66-50b7-4d7f-ba2c-12ec4193e7b9"
      },
      "source": [
        "len(train_data)"
      ],
      "execution_count": null,
      "outputs": [
        {
          "output_type": "execute_result",
          "data": {
            "text/plain": [
              "145791"
            ]
          },
          "metadata": {},
          "execution_count": 29
        }
      ]
    },
    {
      "cell_type": "markdown",
      "metadata": {
        "id": "odfKHn-ZjfUK"
      },
      "source": [
        "검증 데이터 전처리 - 한글을 제외한 나머지를 제거 후 생긴 공백을 제거"
      ]
    },
    {
      "cell_type": "code",
      "metadata": {
        "id": "_SXwOz7gjk6Z"
      },
      "source": [
        "import numpy as np\n",
        "\n",
        "# 검증 데이터\n",
        "test_data[\"리뷰\"] = test_data[\"리뷰\"].str.replace(\"[^ㄱ-ㅎㅏ-ㅣ가-힣 ]\", \"\") # 한글을 제외한 나머지 글자를 공백으로 변환\n",
        "test_data[\"리뷰\"].replace(\"\", np.nan, inplace=True) # 누락 값 처리\n",
        "test_data = test_data.dropna(how=\"any\")             # 누락 값 처리"
      ],
      "execution_count": null,
      "outputs": []
    },
    {
      "cell_type": "code",
      "metadata": {
        "colab": {
          "base_uri": "https://localhost:8080/"
        },
        "id": "GIdkO-vAjrPm",
        "outputId": "77397014-8778-4e88-e68e-a6dc7f76a82a"
      },
      "source": [
        "len(test_data)"
      ],
      "execution_count": null,
      "outputs": [
        {
          "output_type": "execute_result",
          "data": {
            "text/plain": [
              "48995"
            ]
          },
          "metadata": {},
          "execution_count": 33
        }
      ]
    },
    {
      "cell_type": "markdown",
      "metadata": {
        "id": "oOsWU8ouj44T"
      },
      "source": [
        "전처리 데이터 CSV파일로 저장"
      ]
    },
    {
      "cell_type": "code",
      "metadata": {
        "id": "qTIKiLQvj5XK"
      },
      "source": [
        "# 학습 데이터 CSV file로 저장\n",
        "train_data.to_csv(\"/content/drive/MyDrive/ml_data/NaverMovieReview/train_data.csv\")\n",
        "# 검증 데이터 CSV file로 저장\n",
        "test_data.to_csv(\"/content/drive/MyDrive/ml_data/NaverMovieReview/test_data.csv\")"
      ],
      "execution_count": null,
      "outputs": []
    }
  ]
}