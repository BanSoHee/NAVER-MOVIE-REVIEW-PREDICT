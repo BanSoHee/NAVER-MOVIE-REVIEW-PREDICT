{
  "nbformat": 4,
  "nbformat_minor": 0,
  "metadata": {
    "colab": {
      "name": "네이버 영화 리뷰 - 패딩.ipynb",
      "provenance": [],
      "collapsed_sections": []
    },
    "kernelspec": {
      "name": "python3",
      "display_name": "Python 3"
    },
    "language_info": {
      "name": "python"
    }
  },
  "cells": [
    {
      "cell_type": "markdown",
      "metadata": {
        "id": "rTvg28Mhyugl"
      },
      "source": [
        "# **패딩 ?**"
      ]
    },
    {
      "cell_type": "markdown",
      "metadata": {
        "id": "TTXE0krByw6z"
      },
      "source": [
        "**TensorFlow를 이용하여 자연어를 처리하는 방법(패딩)을 알아보다!**"
      ]
    },
    {
      "cell_type": "markdown",
      "metadata": {
        "id": "5EKOU9nkzITH"
      },
      "source": [
        "패딩 테스트\n",
        "\n",
        "* 서로 다른 개수의 단어로 이루어진 문장을 같은 길이로 만들어주기 위해 패딩을 사용할 수 있음\n",
        "\n",
        "* 패딩을 사용하기 위해서는 tensorflow.keras.preprocessing.sequence 모듈의 pad_sequences 함수를 사용함"
      ]
    },
    {
      "cell_type": "code",
      "metadata": {
        "colab": {
          "base_uri": "https://localhost:8080/"
        },
        "id": "aIxHl5PjywmQ",
        "outputId": "73ecabd1-c66d-4e06-de6a-f2d48f0656c1"
      },
      "source": [
        "import tensorflow as tf\n",
        "from tensorflow import keras\n",
        "from tensorflow.keras.preprocessing.text import Tokenizer\n",
        "from tensorflow.keras.preprocessing.sequence import pad_sequences\n",
        "\n",
        "sentences = [\n",
        "  'I love my dog',\n",
        "  'I love my cat',\n",
        "  'You love my dog!',\n",
        "  'Do you think my dog is amazing?'\n",
        "]\n",
        "\n",
        "tokenizer = Tokenizer(oov_token=\"OOV\")\n",
        "tokenizer.fit_on_texts(sentences)\n",
        "word_index = tokenizer.word_index\n",
        "\n",
        "sequences = tokenizer.texts_to_sequences(sentences) # 정수의 시퀀스로 변환된 텍스트 문장\n",
        "padded = pad_sequences(sequences) # pad_sequences 함수에 이 시퀀스를 입력하면 숫자 0을 이용해서 가장 긴 시퀀스 길이 기준 같은 길이의 시퀀스로 변환\n",
        "\n",
        "print(word_index)\n",
        "print(sequences)\n",
        "print(padded)"
      ],
      "execution_count": null,
      "outputs": [
        {
          "output_type": "stream",
          "name": "stdout",
          "text": [
            "{'OOV': 1, 'my': 2, 'love': 3, 'dog': 4, 'i': 5, 'you': 6, 'cat': 7, 'do': 8, 'think': 9, 'is': 10, 'amazing': 11}\n",
            "[[5, 3, 2, 4], [5, 3, 2, 7], [6, 3, 2, 4], [8, 6, 9, 2, 4, 10, 11]]\n",
            "[[ 0  0  0  5  3  2  4]\n",
            " [ 0  0  0  5  3  2  7]\n",
            " [ 0  0  0  6  3  2  4]\n",
            " [ 8  6  9  2  4 10 11]]\n"
          ]
        }
      ]
    },
    {
      "cell_type": "markdown",
      "metadata": {
        "id": "F2mLTd9G1wA_"
      },
      "source": [
        "패딩 테스트 - padding 파라미터\n",
        "\n",
        "* padding 파라미터를 ‘post’로 지정하면 시퀀스의 뒤에 패딩이 채워짐"
      ]
    },
    {
      "cell_type": "code",
      "metadata": {
        "colab": {
          "base_uri": "https://localhost:8080/"
        },
        "id": "4fvGil_x1xX9",
        "outputId": "174da524-8184-4318-db92-d87f7f5b3df5"
      },
      "source": [
        "padded = pad_sequences(sequences, padding='post')\n",
        "print(padded)"
      ],
      "execution_count": null,
      "outputs": [
        {
          "output_type": "stream",
          "name": "stdout",
          "text": [
            "[[ 5  3  2  4  0  0  0]\n",
            " [ 5  3  2  7  0  0  0]\n",
            " [ 6  3  2  4  0  0  0]\n",
            " [ 8  6  9  2  4 10 11]]\n"
          ]
        }
      ]
    },
    {
      "cell_type": "markdown",
      "metadata": {
        "id": "cXor-elz14fA"
      },
      "source": [
        "패딩 테스트 - maxlen 파라미터\n",
        "\n",
        "* maxlen 파라미터는 시퀀스의 최대 길이를 제한함\n",
        "\n",
        "* 길이를 넘는 시퀀스는 잘라냄"
      ]
    },
    {
      "cell_type": "code",
      "metadata": {
        "colab": {
          "base_uri": "https://localhost:8080/"
        },
        "id": "f_BNxsQF14Gx",
        "outputId": "05a31280-75cc-44b1-8887-5bc97a00ae03"
      },
      "source": [
        "padded = pad_sequences(sequences, padding='pre', maxlen=6)\n",
        "print(padded)"
      ],
      "execution_count": null,
      "outputs": [
        {
          "output_type": "stream",
          "name": "stdout",
          "text": [
            "[[ 0  0  5  3  2  4]\n",
            " [ 0  0  5  3  2  7]\n",
            " [ 0  0  6  3  2  4]\n",
            " [ 6  9  2  4 10 11]]\n"
          ]
        }
      ]
    },
    {
      "cell_type": "markdown",
      "metadata": {
        "id": "_6pfwWP02I4j"
      },
      "source": [
        "패딩 테스트 - truncating 파라미터\n",
        "\n",
        "* truncating 파라미터는 최대 길이를 넘는 시퀀스를 잘라낼 위치를 지정함\n",
        "\n",
        "* 'post'로 지정하면 뒷부분을 잘라냄"
      ]
    },
    {
      "cell_type": "code",
      "metadata": {
        "colab": {
          "base_uri": "https://localhost:8080/"
        },
        "id": "RDntRQSx2K04",
        "outputId": "1e741763-9f57-4496-a1b1-da61517d40c6"
      },
      "source": [
        "padded = pad_sequences(sequences, padding='pre', maxlen=6, truncating='post')\n",
        "print(padded)"
      ],
      "execution_count": null,
      "outputs": [
        {
          "output_type": "stream",
          "name": "stdout",
          "text": [
            "[[ 0  0  5  3  2  4]\n",
            " [ 0  0  5  3  2  7]\n",
            " [ 0  0  6  3  2  4]\n",
            " [ 8  6  9  2  4 10]]\n"
          ]
        }
      ]
    },
    {
      "cell_type": "markdown",
      "metadata": {
        "id": "YZ16W1zIACIh"
      },
      "source": [
        "# **네이버 영화 리뷰 - 패딩**"
      ]
    },
    {
      "cell_type": "markdown",
      "metadata": {
        "id": "6YeFDGbU00lp"
      },
      "source": [
        "구글 드라이브 마운트"
      ]
    },
    {
      "cell_type": "code",
      "metadata": {
        "colab": {
          "base_uri": "https://localhost:8080/"
        },
        "id": "pC9k9vSh0xlp",
        "outputId": "348ceb95-8982-4130-fee9-2b7091a3b1b2"
      },
      "source": [
        "from google.colab import drive\n",
        "drive.mount(\"/content/drive\")"
      ],
      "execution_count": null,
      "outputs": [
        {
          "output_type": "stream",
          "name": "stdout",
          "text": [
            "Mounted at /content/drive\n"
          ]
        }
      ]
    },
    {
      "cell_type": "markdown",
      "metadata": {
        "id": "ce7ezaw61NF4"
      },
      "source": [
        "한글 출력을 위해서 나눔 폰트 설치"
      ]
    },
    {
      "cell_type": "code",
      "metadata": {
        "colab": {
          "base_uri": "https://localhost:8080/"
        },
        "id": "VEx190Yc1Nbp",
        "outputId": "4aa436d4-0310-4de3-fa55-7dd611f8e3f9"
      },
      "source": [
        "# 설치 후 런타임 다시 시작\n",
        "!sudo apt-get install -y fonts-nanum\n",
        "!sudo fc-cache -fv\n",
        "!rm ~/.cache/matplotlib -rf"
      ],
      "execution_count": null,
      "outputs": [
        {
          "output_type": "stream",
          "name": "stdout",
          "text": [
            "Reading package lists... Done\n",
            "Building dependency tree       \n",
            "Reading state information... Done\n",
            "The following NEW packages will be installed:\n",
            "  fonts-nanum\n",
            "0 upgraded, 1 newly installed, 0 to remove and 37 not upgraded.\n",
            "Need to get 9,604 kB of archives.\n",
            "After this operation, 29.5 MB of additional disk space will be used.\n",
            "Get:1 http://archive.ubuntu.com/ubuntu bionic/universe amd64 fonts-nanum all 20170925-1 [9,604 kB]\n",
            "Fetched 9,604 kB in 1s (8,183 kB/s)\n",
            "debconf: unable to initialize frontend: Dialog\n",
            "debconf: (No usable dialog-like program is installed, so the dialog based frontend cannot be used. at /usr/share/perl5/Debconf/FrontEnd/Dialog.pm line 76, <> line 1.)\n",
            "debconf: falling back to frontend: Readline\n",
            "debconf: unable to initialize frontend: Readline\n",
            "debconf: (This frontend requires a controlling tty.)\n",
            "debconf: falling back to frontend: Teletype\n",
            "dpkg-preconfigure: unable to re-open stdin: \n",
            "Selecting previously unselected package fonts-nanum.\n",
            "(Reading database ... 155013 files and directories currently installed.)\n",
            "Preparing to unpack .../fonts-nanum_20170925-1_all.deb ...\n",
            "Unpacking fonts-nanum (20170925-1) ...\n",
            "Setting up fonts-nanum (20170925-1) ...\n",
            "Processing triggers for fontconfig (2.12.6-0ubuntu2) ...\n",
            "/usr/share/fonts: caching, new cache contents: 0 fonts, 1 dirs\n",
            "/usr/share/fonts/truetype: caching, new cache contents: 0 fonts, 3 dirs\n",
            "/usr/share/fonts/truetype/humor-sans: caching, new cache contents: 1 fonts, 0 dirs\n",
            "/usr/share/fonts/truetype/liberation: caching, new cache contents: 16 fonts, 0 dirs\n",
            "/usr/share/fonts/truetype/nanum: caching, new cache contents: 10 fonts, 0 dirs\n",
            "/usr/local/share/fonts: caching, new cache contents: 0 fonts, 0 dirs\n",
            "/root/.local/share/fonts: skipping, no such directory\n",
            "/root/.fonts: skipping, no such directory\n",
            "/var/cache/fontconfig: cleaning cache directory\n",
            "/root/.cache/fontconfig: not cleaning non-existent cache directory\n",
            "/root/.fontconfig: not cleaning non-existent cache directory\n",
            "fc-cache: succeeded\n"
          ]
        }
      ]
    },
    {
      "cell_type": "markdown",
      "metadata": {
        "id": "rGQc6dnB1U7e"
      },
      "source": [
        "정수 인코딩 데이터 불러오기"
      ]
    },
    {
      "cell_type": "code",
      "metadata": {
        "id": "PLYl9QOe1VW0"
      },
      "source": [
        "import numpy as np\n",
        "\n",
        "x_train_encoded = np.load(\"/content/drive/MyDrive/ml_data/NaverMovieReview/x_train_encoded.npy\", allow_pickle=True)\n",
        "x_test_encoded = np.load(\"/content/drive/MyDrive/ml_data/NaverMovieReview/x_test_encoded.npy\", allow_pickle=True)"
      ],
      "execution_count": null,
      "outputs": []
    },
    {
      "cell_type": "code",
      "metadata": {
        "colab": {
          "base_uri": "https://localhost:8080/"
        },
        "id": "W94wcS6Z1dXM",
        "outputId": "474d9793-e3d3-4eeb-e2e9-40bc468021b8"
      },
      "source": [
        "x_train_encoded[:5]"
      ],
      "execution_count": null,
      "outputs": [
        {
          "output_type": "execute_result",
          "data": {
            "text/plain": [
              "array([list([20, 58, 888, 26, 206, 7, 21, 692]),\n",
              "       list([970, 474, 484, 629, 2, 102, 1547, 39, 859, 942, 30, 356]),\n",
              "       list([11, 184, 1]), list([8029, 134, 4127, 269, 77, 5, 44, 3319]),\n",
              "       list([21623, 8481, 1044, 39, 2695, 46, 2, 2618, 27, 1111, 22, 318, 29, 9, 28, 46, 15305, 21624, 385, 2843, 1670])],\n",
              "      dtype=object)"
            ]
          },
          "metadata": {},
          "execution_count": 2
        }
      ]
    },
    {
      "cell_type": "code",
      "metadata": {
        "colab": {
          "base_uri": "https://localhost:8080/"
        },
        "id": "yFtzdFdY1f_c",
        "outputId": "f64c4d53-0cc1-4657-a047-86418d42f63b"
      },
      "source": [
        "x_test_encoded[:5]"
      ],
      "execution_count": null,
      "outputs": [
        {
          "output_type": "execute_result",
          "data": {
            "text/plain": [
              "array([list([781, 119]),\n",
              "       list([69, 100, 44, 891, 306, 30, 24, 31, 590, 3394, 55, 848]),\n",
              "       list([80, 30, 209, 116, 320, 129, 41, 3, 29]),\n",
              "       list([9, 55, 8, 422, 224, 2004, 110, 511, 538, 49, 16, 585, 317, 19685, 785, 268]),\n",
              "       list([215, 41, 137, 42, 215, 2])], dtype=object)"
            ]
          },
          "metadata": {},
          "execution_count": 3
        }
      ]
    },
    {
      "cell_type": "markdown",
      "metadata": {
        "id": "_QGSY9_P1mn_"
      },
      "source": [
        "리뷰 최대 길이, 평균 길이"
      ]
    },
    {
      "cell_type": "code",
      "metadata": {
        "colab": {
          "base_uri": "https://localhost:8080/",
          "height": 317
        },
        "id": "MGwo6ESI1m_f",
        "outputId": "28a95675-2490-4f9d-8fac-7cc6602b6ae3"
      },
      "source": [
        "import matplotlib.pyplot as plt\n",
        "\n",
        "plt.rc('font', family='NanumBarunGothic') \n",
        "\n",
        "print(\"리뷰의 최대 길이 : {:,}\".format(max(len(l) for l in x_train_encoded)))\n",
        "print(\"리뷰의 평균 길이 : {:,.2f}\".format(sum(map(len, x_train_encoded)) / len(x_train_encoded)))\n",
        "plt.hist([len(s) for s in x_train_encoded], bins=50)\n",
        "plt.xlabel(\"리뷰 길이\")\n",
        "plt.ylabel(\"리뷰 갯수\")\n",
        "plt.show()"
      ],
      "execution_count": null,
      "outputs": [
        {
          "output_type": "stream",
          "name": "stdout",
          "text": [
            "리뷰의 최대 길이 : 74\n",
            "리뷰의 평균 길이 : 12.28\n"
          ]
        },
        {
          "output_type": "display_data",
          "data": {
            "image/png": "[encoded data removed]",
            "text/plain": [
              "<Figure size 432x288 with 1 Axes>"
            ]
          },
          "metadata": {
            "needs_background": "light"
          }
        }
      ]
    },
    {
      "cell_type": "markdown",
      "metadata": {
        "id": "APKSfIof2c4V"
      },
      "source": [
        "리뷰 최대 길이 선정\n",
        "\n",
        "→ 최대 길이를 50으로 할 경우 99.39708212%의 리뷰를 처리할 수 있음"
      ]
    },
    {
      "cell_type": "code",
      "metadata": {
        "colab": {
          "base_uri": "https://localhost:8080/"
        },
        "id": "JdsVGtKI2dNd",
        "outputId": "048b7647-7f12-409b-c2b6-6e50ceab01dd"
      },
      "source": [
        "max_len = 50\n",
        "cnt = 0\n",
        "for s in x_train_encoded:\n",
        "    if len(s) <= max_len:\n",
        "        cnt = cnt + 1\n",
        "print(\"리뷰 길이가 {} 이하인 비율: {:.8f}%\".format(max_len, (cnt / len(x_train_encoded)) * 100))"
      ],
      "execution_count": null,
      "outputs": [
        {
          "output_type": "stream",
          "name": "stdout",
          "text": [
            "리뷰 길이가 50 이하인 비율: 99.39708212%\n"
          ]
        }
      ]
    },
    {
      "cell_type": "markdown",
      "metadata": {
        "id": "0pKNzv6Z2rHE"
      },
      "source": [
        "패딩 처리"
      ]
    },
    {
      "cell_type": "code",
      "metadata": {
        "id": "6Dj1MtO82tr-"
      },
      "source": [
        "from tensorflow.keras.preprocessing.sequence import pad_sequences\n",
        "\n",
        "x_train_padded = pad_sequences(x_train_encoded, maxlen=max_len)\n",
        "x_test_padded = pad_sequences(x_test_encoded, maxlen=max_len)"
      ],
      "execution_count": null,
      "outputs": []
    },
    {
      "cell_type": "markdown",
      "metadata": {
        "id": "y__PCPN825o9"
      },
      "source": [
        "패딩 처리된 데이터 저장"
      ]
    },
    {
      "cell_type": "code",
      "metadata": {
        "id": "L7VgkAzt25MG"
      },
      "source": [
        "np.save(\"/content/drive/MyDrive/ml_data/NaverMovieReview/x_train_padded.npy\", x_train_padded, allow_pickle=True)\n",
        "np.save(\"/content/drive/MyDrive/ml_data/NaverMovieReview/x_test_padded.npy\", x_test_padded, allow_pickle=True)"
      ],
      "execution_count": null,
      "outputs": []
    }
  ]
}